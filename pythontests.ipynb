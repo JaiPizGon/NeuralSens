{
 "cells": [
  {
   "cell_type": "markdown",
   "metadata": {},
   "source": [
    "### Load necessary libraries"
   ]
  },
  {
   "cell_type": "code",
   "execution_count": 1,
   "metadata": {},
   "outputs": [
    {
     "name": "stderr",
     "output_type": "stream",
     "text": [
      "c:\\Users\\jaime\\miniconda3\\envs\\neuralsens\\lib\\site-packages\\tqdm\\auto.py:22: TqdmWarning: IProgress not found. Please update jupyter and ipywidgets. See https://ipywidgets.readthedocs.io/en/stable/user_install.html\n",
      "  from .autonotebook import tqdm as notebook_tqdm\n"
     ]
    }
   ],
   "source": [
    "import numpy as np\n",
    "import neuralsens.partial_derivatives as ns\n",
    "import pandas as pd\n",
    "from sklearn.neural_network import MLPRegressor\n",
    "from sklearn.model_selection import train_test_split\n",
    "from sklearn.metrics import r2_score, mean_squared_error\n",
    "from sklearn import set_config\n",
    "set_config(display='diagram')\n",
    "%matplotlib qt"
   ]
  },
  {
   "cell_type": "markdown",
   "metadata": {},
   "source": [
    "### Create synthetic dataset to check behavior of functions"
   ]
  },
  {
   "cell_type": "code",
   "execution_count": 2,
   "metadata": {},
   "outputs": [],
   "source": [
    "samples = 100000\n",
    "n_columns = 8\n",
    "sm = np.random.normal(size=(samples,n_columns))\n",
    "df = pd.DataFrame(sm, columns=['X' + str(x) for x in range(1,n_columns+1)])"
   ]
  },
  {
   "cell_type": "markdown",
   "metadata": {},
   "source": [
    "### Check behavior of Jacobian function"
   ]
  },
  {
   "cell_type": "markdown",
   "metadata": {},
   "source": [
    "#### Create output Y as linear function of inputs with some non-linear relationship"
   ]
  },
  {
   "cell_type": "code",
   "execution_count": 3,
   "metadata": {},
   "outputs": [],
   "source": [
    "df['Y'] = - 0.8 * df.X1 + 0.5 * df.X2 ** 2 - df.X3 * df.X4 + 0.1 * np.random.normal(size=(samples,)) "
   ]
  },
  {
   "cell_type": "markdown",
   "metadata": {},
   "source": [
    "#### Train MLP model using the data.frame created"
   ]
  },
  {
   "cell_type": "code",
   "execution_count": 4,
   "metadata": {},
   "outputs": [],
   "source": [
    "## Create random 80/20 % split\n",
    "X_train, X_test, y_train, y_test = train_test_split(df.loc[:, df.columns != 'Y'].to_numpy(), df['Y'], test_size = 0.2, random_state = 5)"
   ]
  },
  {
   "cell_type": "code",
   "execution_count": 5,
   "metadata": {},
   "outputs": [
    {
     "data": {
      "text/html": [
       "<style>#sk-3e8d0fac-af67-4543-8c45-372d5b943f26 {color: black;background-color: white;}#sk-3e8d0fac-af67-4543-8c45-372d5b943f26 pre{padding: 0;}#sk-3e8d0fac-af67-4543-8c45-372d5b943f26 div.sk-toggleable {background-color: white;}#sk-3e8d0fac-af67-4543-8c45-372d5b943f26 label.sk-toggleable__label {cursor: pointer;display: block;width: 100%;margin-bottom: 0;padding: 0.3em;box-sizing: border-box;text-align: center;}#sk-3e8d0fac-af67-4543-8c45-372d5b943f26 label.sk-toggleable__label-arrow:before {content: \"▸\";float: left;margin-right: 0.25em;color: #696969;}#sk-3e8d0fac-af67-4543-8c45-372d5b943f26 label.sk-toggleable__label-arrow:hover:before {color: black;}#sk-3e8d0fac-af67-4543-8c45-372d5b943f26 div.sk-estimator:hover label.sk-toggleable__label-arrow:before {color: black;}#sk-3e8d0fac-af67-4543-8c45-372d5b943f26 div.sk-toggleable__content {max-height: 0;max-width: 0;overflow: hidden;text-align: left;background-color: #f0f8ff;}#sk-3e8d0fac-af67-4543-8c45-372d5b943f26 div.sk-toggleable__content pre {margin: 0.2em;color: black;border-radius: 0.25em;background-color: #f0f8ff;}#sk-3e8d0fac-af67-4543-8c45-372d5b943f26 input.sk-toggleable__control:checked~div.sk-toggleable__content {max-height: 200px;max-width: 100%;overflow: auto;}#sk-3e8d0fac-af67-4543-8c45-372d5b943f26 input.sk-toggleable__control:checked~label.sk-toggleable__label-arrow:before {content: \"▾\";}#sk-3e8d0fac-af67-4543-8c45-372d5b943f26 div.sk-estimator input.sk-toggleable__control:checked~label.sk-toggleable__label {background-color: #d4ebff;}#sk-3e8d0fac-af67-4543-8c45-372d5b943f26 div.sk-label input.sk-toggleable__control:checked~label.sk-toggleable__label {background-color: #d4ebff;}#sk-3e8d0fac-af67-4543-8c45-372d5b943f26 input.sk-hidden--visually {border: 0;clip: rect(1px 1px 1px 1px);clip: rect(1px, 1px, 1px, 1px);height: 1px;margin: -1px;overflow: hidden;padding: 0;position: absolute;width: 1px;}#sk-3e8d0fac-af67-4543-8c45-372d5b943f26 div.sk-estimator {font-family: monospace;background-color: #f0f8ff;border: 1px dotted black;border-radius: 0.25em;box-sizing: border-box;margin-bottom: 0.5em;}#sk-3e8d0fac-af67-4543-8c45-372d5b943f26 div.sk-estimator:hover {background-color: #d4ebff;}#sk-3e8d0fac-af67-4543-8c45-372d5b943f26 div.sk-parallel-item::after {content: \"\";width: 100%;border-bottom: 1px solid gray;flex-grow: 1;}#sk-3e8d0fac-af67-4543-8c45-372d5b943f26 div.sk-label:hover label.sk-toggleable__label {background-color: #d4ebff;}#sk-3e8d0fac-af67-4543-8c45-372d5b943f26 div.sk-serial::before {content: \"\";position: absolute;border-left: 1px solid gray;box-sizing: border-box;top: 2em;bottom: 0;left: 50%;}#sk-3e8d0fac-af67-4543-8c45-372d5b943f26 div.sk-serial {display: flex;flex-direction: column;align-items: center;background-color: white;padding-right: 0.2em;padding-left: 0.2em;}#sk-3e8d0fac-af67-4543-8c45-372d5b943f26 div.sk-item {z-index: 1;}#sk-3e8d0fac-af67-4543-8c45-372d5b943f26 div.sk-parallel {display: flex;align-items: stretch;justify-content: center;background-color: white;}#sk-3e8d0fac-af67-4543-8c45-372d5b943f26 div.sk-parallel::before {content: \"\";position: absolute;border-left: 1px solid gray;box-sizing: border-box;top: 2em;bottom: 0;left: 50%;}#sk-3e8d0fac-af67-4543-8c45-372d5b943f26 div.sk-parallel-item {display: flex;flex-direction: column;position: relative;background-color: white;}#sk-3e8d0fac-af67-4543-8c45-372d5b943f26 div.sk-parallel-item:first-child::after {align-self: flex-end;width: 50%;}#sk-3e8d0fac-af67-4543-8c45-372d5b943f26 div.sk-parallel-item:last-child::after {align-self: flex-start;width: 50%;}#sk-3e8d0fac-af67-4543-8c45-372d5b943f26 div.sk-parallel-item:only-child::after {width: 0;}#sk-3e8d0fac-af67-4543-8c45-372d5b943f26 div.sk-dashed-wrapped {border: 1px dashed gray;margin: 0 0.4em 0.5em 0.4em;box-sizing: border-box;padding-bottom: 0.4em;background-color: white;position: relative;}#sk-3e8d0fac-af67-4543-8c45-372d5b943f26 div.sk-label label {font-family: monospace;font-weight: bold;background-color: white;display: inline-block;line-height: 1.2em;}#sk-3e8d0fac-af67-4543-8c45-372d5b943f26 div.sk-label-container {position: relative;z-index: 2;text-align: center;}#sk-3e8d0fac-af67-4543-8c45-372d5b943f26 div.sk-container {/* jupyter's `normalize.less` sets `[hidden] { display: none; }` but bootstrap.min.css set `[hidden] { display: none !important; }` so we also need the `!important` here to be able to override the default hidden behavior on the sphinx rendered scikit-learn.org. See: https://github.com/scikit-learn/scikit-learn/issues/21755 */display: inline-block !important;position: relative;}#sk-3e8d0fac-af67-4543-8c45-372d5b943f26 div.sk-text-repr-fallback {display: none;}</style><div id=\"sk-3e8d0fac-af67-4543-8c45-372d5b943f26\" class=\"sk-top-container\"><div class=\"sk-text-repr-fallback\"><pre>MLPRegressor(activation=&#x27;logistic&#x27;, alpha=0.01, batch_size=10,\n",
       "             hidden_layer_sizes=[10], learning_rate=&#x27;adaptive&#x27;, max_iter=500,\n",
       "             random_state=150, solver=&#x27;sgd&#x27;, tol=0.01, validation_fraction=0.0)</pre><b>Please rerun this cell to show the HTML repr or trust the notebook.</b></div><div class=\"sk-container\" hidden><div class=\"sk-item\"><div class=\"sk-estimator sk-toggleable\"><input class=\"sk-toggleable__control sk-hidden--visually\" id=\"3a2b8db5-2d47-48ce-aa01-69819ba234f9\" type=\"checkbox\" checked><label for=\"3a2b8db5-2d47-48ce-aa01-69819ba234f9\" class=\"sk-toggleable__label sk-toggleable__label-arrow\">MLPRegressor</label><div class=\"sk-toggleable__content\"><pre>MLPRegressor(activation=&#x27;logistic&#x27;, alpha=0.01, batch_size=10,\n",
       "             hidden_layer_sizes=[10], learning_rate=&#x27;adaptive&#x27;, max_iter=500,\n",
       "             random_state=150, solver=&#x27;sgd&#x27;, tol=0.01, validation_fraction=0.0)</pre></div></div></div></div></div>"
      ],
      "text/plain": [
       "MLPRegressor(activation='logistic', alpha=0.01, batch_size=10,\n",
       "             hidden_layer_sizes=[10], learning_rate='adaptive', max_iter=500,\n",
       "             random_state=150, solver='sgd', tol=0.01, validation_fraction=0.0)"
      ]
     },
     "execution_count": 5,
     "metadata": {},
     "output_type": "execute_result"
    }
   ],
   "source": [
    "### Create MLP model\n",
    "model = MLPRegressor(solver='sgd', # Update function\n",
    "                    hidden_layer_sizes=[10], # #neurons in hidden layers\n",
    "                    learning_rate_init=0.001, # initial learning rate\n",
    "                    activation='logistic', # Logistic sigmoid activation function\n",
    "                    alpha=0.01, # L2 regularization term\n",
    "                    learning_rate='adaptive', # Type of learning rate used in training\n",
    "                    max_iter=500, # Maximum number of iterations\n",
    "                    batch_size=10, # Size of batch when training\n",
    "                    tol=1e-2, # Tolerance for the optimization\n",
    "                    validation_fraction=0.0, # Percentage of samples used for validation\n",
    "                    n_iter_no_change=10, # Maximum number of epochs to not meet tol improvement\n",
    "                    random_state=150)\n",
    "\n",
    "# Train model\n",
    "model.fit(X_train, y_train)"
   ]
  },
  {
   "cell_type": "code",
   "execution_count": 6,
   "metadata": {},
   "outputs": [
    {
     "name": "stdout",
     "output_type": "stream",
     "text": [
      "Training set: R2 0.9627375736386207 MSE 0.0794574619071889\n",
      "Test set: R2 0.9625435088618721 MSE 0.07916687680012464\n"
     ]
    }
   ],
   "source": [
    "# Predict values to check model performance\n",
    "y_train_pred = model.predict(X_train)\n",
    "y_test_pred = model.predict(X_test)\n",
    "\n",
    "# Obtain performance metrics\n",
    "print(\"Training set: R2\", r2_score(y_train, y_train_pred), \"MSE\", mean_squared_error(y_train, y_train_pred))\n",
    "print(\"Test set: R2\", r2_score(y_test, y_test_pred), \"MSE\", mean_squared_error(y_test, y_test_pred))\n"
   ]
  },
  {
   "cell_type": "code",
   "execution_count": 7,
   "metadata": {},
   "outputs": [],
   "source": [
    "import matplotlib.pyplot as plt\n",
    "fig=plt.figure()\n",
    "ax=fig.add_axes([0,0,1,1])\n",
    "ax.scatter(y_train, y_train_pred, color='r')\n",
    "plt.show()"
   ]
  },
  {
   "cell_type": "markdown",
   "metadata": {},
   "source": [
    "#### Execute jacobian function and check sensitivity metrics"
   ]
  },
  {
   "cell_type": "code",
   "execution_count": 8,
   "metadata": {},
   "outputs": [],
   "source": [
    "# Obtain parameters to perform jacobian\n",
    "wts = model.coefs_\n",
    "bias = model.intercepts_\n",
    "actfunc = ['identity',model.get_params()['activation'],model.out_activation_]\n",
    "X = pd.DataFrame(X_train, columns=df.columns[df.columns != 'Y'])\n",
    "y = pd.DataFrame(y_train, columns=['Y'])\n",
    "sens_end_layer = 'last'\n",
    "sens_end_input = False\n",
    "sens_origin_layer = 0\n",
    "sens_origin_input = True"
   ]
  },
  {
   "cell_type": "code",
   "execution_count": 9,
   "metadata": {},
   "outputs": [],
   "source": [
    "jacobian = ns.jacobian_mlp(wts, bias, actfunc, X, y)"
   ]
  },
  {
   "cell_type": "code",
   "execution_count": 10,
   "metadata": {},
   "outputs": [
    {
     "name": "stdout",
     "output_type": "stream",
     "text": [
      "Sensitivity analysis of [8, 10, 1] MLP network.\n",
      "\n",
      "Sensitivity measures of each output:\n",
      "\n",
      "$Y \n",
      "\n",
      "        mean       std  mean_squared\n",
      "X1 -0.790251  0.075959      0.630267\n",
      "X2  0.000836  0.929067      0.863166\n",
      "X3  0.005942  0.939730      0.883128\n",
      "X4 -0.000940  0.939830      0.883282\n",
      "X5 -0.000430  0.003722      0.000014\n",
      "X6 -0.000956  0.003367      0.000012\n",
      "X7 -0.001262  0.001220      0.000003\n",
      "X8 -0.001185  0.002839      0.000009\n"
     ]
    }
   ],
   "source": [
    "# Check sensitivity metrics\n",
    "# For X1, mean should be around -0.8\n",
    "# For X2, X3, X4, std shall be much greater than their mean\n",
    "# For X5, mean and std shall be near 0\n",
    "jacobian.summary()"
   ]
  },
  {
   "cell_type": "code",
   "execution_count": 11,
   "metadata": {},
   "outputs": [
    {
     "name": "stdout",
     "output_type": "stream",
     "text": [
      "Sensitivity analysis of [8, 10, 1] MLP network.\n",
      "\n",
      "80000 samples\n",
      "\n",
      "Sensitivities of each output (only 5 first samples):\n",
      "\n",
      "$Y \n",
      "\n",
      "         X1        X2        X3        X4        X5        X6        X7  \\\n",
      "0 -0.878113 -1.209858 -0.564912  1.432208 -0.000024  0.001642 -0.002341   \n",
      "1 -0.895638 -1.584511 -0.922908 -0.666574  0.005098 -0.000307 -0.000148   \n",
      "2 -0.899316 -1.382358 -0.983582 -0.486375  0.005185  0.001362 -0.001840   \n",
      "3 -0.795823  0.831578  0.587179 -0.375461  0.000024 -0.001394 -0.000744   \n",
      "4 -0.722826 -1.080295  1.062432 -1.100959  0.000715  0.002715 -0.002628   \n",
      "\n",
      "         X8  \n",
      "0 -0.001914  \n",
      "1 -0.005624  \n",
      "2 -0.003781  \n",
      "3  0.001348  \n",
      "4  0.001105  \n"
     ]
    }
   ],
   "source": [
    "jacobian.info()"
   ]
  },
  {
   "cell_type": "code",
   "execution_count": 12,
   "metadata": {},
   "outputs": [],
   "source": [
    "jacobian.plot()"
   ]
  },
  {
   "cell_type": "code",
   "execution_count": 15,
   "metadata": {},
   "outputs": [],
   "source": [
    "ns.alpha_sens_curves(jacobian, max_alpha = 300)"
   ]
  },
  {
   "cell_type": "markdown",
   "metadata": {},
   "source": [
    "### Pytorch Functionality"
   ]
  },
  {
   "cell_type": "code",
   "execution_count": null,
   "metadata": {},
   "outputs": [],
   "source": [
    "from torch import manual_seed\n",
    "import torch\n",
    "manual_seed(1)"
   ]
  },
  {
   "cell_type": "code",
   "execution_count": null,
   "metadata": {},
   "outputs": [],
   "source": [
    "device = torch.device('cuda' if torch.cuda.is_available() else 'cpu')\n",
    "# device = torch.device('cpu')\n",
    "device"
   ]
  },
  {
   "cell_type": "code",
   "execution_count": null,
   "metadata": {},
   "outputs": [],
   "source": [
    "samples = 10000\n",
    "n_columns = 8\n",
    "sm = np.random.normal(size=(samples,n_columns))\n",
    "df = pd.DataFrame(sm, columns=['X' + str(x) for x in range(1,n_columns+1)])"
   ]
  },
  {
   "cell_type": "code",
   "execution_count": null,
   "metadata": {},
   "outputs": [],
   "source": [
    "df['Y'] = - 0.8 * df.X1 + 0.5 * df.X2 ** 2 - df.X3 * df.X4 + 0.1 * np.random.normal(size=(samples,)) "
   ]
  },
  {
   "cell_type": "code",
   "execution_count": null,
   "metadata": {},
   "outputs": [],
   "source": [
    "## Create random 80/20 % split\n",
    "X_train, X_test, y_train, y_test = train_test_split(df.loc[:, df.columns != 'Y'].to_numpy(), df['Y'], test_size = 0.25, random_state = 5)"
   ]
  },
  {
   "cell_type": "code",
   "execution_count": null,
   "metadata": {},
   "outputs": [],
   "source": [
    "class MLP(torch.nn.Sequential):\n",
    "    def __init__(self, input_size:int, output_size:int = 1, hidden_size:list = [10]):\n",
    "        # Store layers to initiate sequential neural network\n",
    "        layers           = []\n",
    "        first = True\n",
    "        for idx, neurons in enumerate(hidden_size):\n",
    "            if first:\n",
    "                layers += [torch.nn.Linear(input_size, neurons)]\n",
    "                first = False\n",
    "            else:\n",
    "                layers += [torch.nn.Linear(hidden_size[idx-1], neurons)]\n",
    "            layers += [torch.nn.Sigmoid()]\n",
    "        layers += [torch.nn.Linear(hidden_size[idx-1], output_size)]\n",
    "        super(MLP, self).__init__(*layers)"
   ]
  },
  {
   "cell_type": "code",
   "execution_count": null,
   "metadata": {},
   "outputs": [],
   "source": [
    "X_train_tch = torch.FloatTensor(X_train).requires_grad_(True).to(device)\n",
    "X_test_tch = torch.FloatTensor(X_test).requires_grad_(True).to(device)\n",
    "y_train_tch = torch.FloatTensor(y_train.to_numpy()).to(device)\n",
    "y_test_tch = torch.FloatTensor(y_test.to_numpy()).to(device)"
   ]
  },
  {
   "cell_type": "code",
   "execution_count": null,
   "metadata": {},
   "outputs": [],
   "source": [
    "model = MLP(input_size=n_columns, output_size=1, hidden_size=[15,15])\n",
    "model = model.to(device)"
   ]
  },
  {
   "cell_type": "code",
   "execution_count": null,
   "metadata": {},
   "outputs": [],
   "source": [
    "criterion = torch.nn.MSELoss()\n",
    "lr = 0.1\n",
    "optimizer = torch.optim.SGD(model.parameters(), lr = 0.1)"
   ]
  },
  {
   "cell_type": "code",
   "execution_count": null,
   "metadata": {},
   "outputs": [],
   "source": [
    "model.eval()\n",
    "y_pred = model(X_test_tch)\n",
    "before_train = criterion(y_pred.squeeze().to(device), y_test_tch)\n",
    "print('Test loss before training' , before_train.item())    "
   ]
  },
  {
   "cell_type": "code",
   "execution_count": null,
   "metadata": {},
   "outputs": [],
   "source": [
    "model.train()\n",
    "epoch = 0\n",
    "lr = 0.8\n",
    "loss = before_train\n",
    "counter = 0\n",
    "path=[]\n",
    "while loss.item() > 0.1:\n",
    "    optimizer.zero_grad() # Reset the gradient\n",
    "    epoch += 1\n",
    "    counter += 1\n",
    "    # Forward pass\n",
    "    y_pred = model(X_train_tch)\n",
    "    # Update learning rate based on loss\n",
    "    if loss < criterion(y_pred.squeeze().to(device), y_train_tch):\n",
    "        counter = 0\n",
    "        lr /= 2\n",
    "        optimizer = torch.optim.SGD(model.parameters(), lr = lr)\n",
    "    if counter > 100:\n",
    "        counter = 0\n",
    "        lr *= 1.2\n",
    "        optimizer = torch.optim.SGD(model.parameters(), lr = lr)\n",
    "    # Compute Loss\n",
    "    loss = criterion(y_pred.squeeze().to(device), y_train_tch)\n",
    "    print('Epoch {}: train loss: {} learning rate: {}'.format(epoch, loss.item(), lr))\n",
    "    # Backward pass\n",
    "    loss.backward()\n",
    "    optimizer.step()"
   ]
  },
  {
   "cell_type": "code",
   "execution_count": null,
   "metadata": {},
   "outputs": [],
   "source": [
    "model.eval()\n",
    "y_pred = model(X_test_tch)\n",
    "before_train = criterion(y_pred.squeeze().to(device), y_test_tch)\n",
    "print('Test loss after training' , before_train.item())   "
   ]
  },
  {
   "cell_type": "code",
   "execution_count": null,
   "metadata": {},
   "outputs": [],
   "source": [
    "X = pd.DataFrame(X_train, columns=df.columns[df.columns != 'Y'])\n",
    "y = pd.DataFrame(y_train, columns=['Y'])\n",
    "sens_end_layer = 'last'\n",
    "sens_end_input = False\n",
    "sens_origin_layer = 0\n",
    "sens_origin_input = True"
   ]
  },
  {
   "cell_type": "code",
   "execution_count": null,
   "metadata": {},
   "outputs": [],
   "source": [
    "wts_torch = []\n",
    "bias_torch = []\n",
    "for name, param in model.named_parameters():\n",
    "    #print(name, \":\", param)\n",
    "    if \"weight\" in name:\n",
    "        wts_torch.append(param.detach().T.to(device))\n",
    "    if \"bias\" in name:\n",
    "        bias_torch.append(param.detach().to(device))\n",
    "actfunc_torch = [\"identity\", \"logistic\", \"logistic\", \"identity\"]"
   ]
  },
  {
   "cell_type": "code",
   "execution_count": null,
   "metadata": {},
   "outputs": [],
   "source": [
    "device"
   ]
  },
  {
   "cell_type": "code",
   "execution_count": null,
   "metadata": {},
   "outputs": [],
   "source": [
    "jacobian = ns.jacobian_mlp(wts_torch, bias_torch, actfunc_torch, X, y, use_torch=True, dev=\"cuda\")"
   ]
  },
  {
   "cell_type": "code",
   "execution_count": null,
   "metadata": {},
   "outputs": [],
   "source": [
    "jacobian.summary()"
   ]
  },
  {
   "cell_type": "markdown",
   "metadata": {},
   "source": [
    "### Check behavior of Hessian function"
   ]
  },
  {
   "cell_type": "markdown",
   "metadata": {},
   "source": [
    "#### Create output Y as linear function of inputs with some non-linear relationships"
   ]
  },
  {
   "cell_type": "code",
   "execution_count": null,
   "metadata": {},
   "outputs": [],
   "source": [
    "df['Y'] = - 0.4 * df.X1 ** 3 - 0.5 * df.X2 ** 2 + 0.7 * df.X3 * df.X4 + 0.1 * np.random.normal(size=(samples,)) "
   ]
  },
  {
   "cell_type": "markdown",
   "metadata": {},
   "source": [
    "#### Train MLP model using the data.frame created"
   ]
  },
  {
   "cell_type": "code",
   "execution_count": null,
   "metadata": {},
   "outputs": [],
   "source": [
    "## Create random 80/20 % split\n",
    "X_train, X_test, y_train, y_test = train_test_split(df.loc[:, df.columns != 'Y'].to_numpy(), df['Y'], test_size = 0.2, random_state = 5)"
   ]
  },
  {
   "cell_type": "code",
   "execution_count": null,
   "metadata": {},
   "outputs": [],
   "source": [
    "### Create MLP model\n",
    "model = MLPRegressor(solver='sgd', # Update function\n",
    "                    hidden_layer_sizes=[10], # #neurons in hidden layers\n",
    "                    learning_rate_init=0.001, # initial learning rate\n",
    "                    activation='logistic', # Logistic sigmoid activation function\n",
    "                    alpha=0.01, # L2 regularization term\n",
    "                    learning_rate='adaptive', # Type of learning rate used in training\n",
    "                    max_iter=500, # Maximum number of iterations\n",
    "                    batch_size=10, # Size of batch when training\n",
    "                    tol=1e-2, # Tolerance for the optimization\n",
    "                    validation_fraction=0.0, # Percentage of samples used for validation\n",
    "                    n_iter_no_change=10, # Maximum number of epochs to not meet tol improvement\n",
    "                    random_state=150)\n",
    "\n",
    "# Train model\n",
    "model.fit(X_train, y_train)"
   ]
  },
  {
   "cell_type": "code",
   "execution_count": null,
   "metadata": {},
   "outputs": [],
   "source": [
    "# Predict values to check model performance\n",
    "y_train_pred = model.predict(X_train)\n",
    "y_test_pred = model.predict(X_test)\n",
    "\n",
    "# Obtain performance metrics\n",
    "print(\"Training set: R2\", r2_score(y_train, y_train_pred), \"MSE\", mean_squared_error(y_train, y_train_pred))\n",
    "print(\"Test set: R2\", r2_score(y_test, y_test_pred), \"MSE\", mean_squared_error(y_test, y_test_pred))\n"
   ]
  },
  {
   "cell_type": "code",
   "execution_count": null,
   "metadata": {},
   "outputs": [],
   "source": [
    "import matplotlib.pyplot as plt\n",
    "fig=plt.figure()\n",
    "ax=fig.add_axes([0,0,1,1])\n",
    "ax.scatter(y_train, y_train_pred, color='r')\n",
    "plt.show()"
   ]
  },
  {
   "cell_type": "markdown",
   "metadata": {},
   "source": [
    "#### Execute hessian function and check sensitivity metrics"
   ]
  },
  {
   "cell_type": "code",
   "execution_count": null,
   "metadata": {},
   "outputs": [],
   "source": [
    "# Obtain parameters to perform hessian\n",
    "wts = model.coefs_\n",
    "bias = model.intercepts_\n",
    "actfunc = ['identity',model.get_params()['activation'],model.out_activation_]\n",
    "X = pd.DataFrame(X_train, columns=df.columns[df.columns != 'Y'])\n",
    "y = pd.DataFrame(y_train, columns=['Y'])\n",
    "sens_end_layer = 'last'\n",
    "sens_end_input = False\n",
    "sens_origin_layer = 0\n",
    "sens_origin_input = True"
   ]
  },
  {
   "cell_type": "code",
   "execution_count": null,
   "metadata": {},
   "outputs": [],
   "source": [
    "hessian = ns.hessian_mlp(wts, bias, actfunc, X, y)"
   ]
  },
  {
   "cell_type": "code",
   "execution_count": null,
   "metadata": {},
   "outputs": [],
   "source": [
    "# Check sensitivity metrics\n",
    "# For X1, X5 mean and std should be around 0\n",
    "# For X2, mean should be around -1\n",
    "# For X3, X4, mean should be around 0.7\n",
    "hessian.summary()"
   ]
  },
  {
   "cell_type": "code",
   "execution_count": null,
   "metadata": {},
   "outputs": [],
   "source": [
    "hessian.info()"
   ]
  },
  {
   "cell_type": "code",
   "execution_count": null,
   "metadata": {},
   "outputs": [],
   "source": [
    "# hessian.plot()"
   ]
  },
  {
   "cell_type": "markdown",
   "metadata": {},
   "source": [
    "### Pytorch Functionality"
   ]
  },
  {
   "cell_type": "code",
   "execution_count": null,
   "metadata": {},
   "outputs": [],
   "source": [
    "X_train_tch = torch.FloatTensor(X_train).requires_grad_(True).to(device)\n",
    "X_test_tch = torch.FloatTensor(X_test).requires_grad_(True).to(device)\n",
    "y_train_tch = torch.FloatTensor(y_train.to_numpy()).to(device)\n",
    "y_test_tch = torch.FloatTensor(y_test.to_numpy()).to(device)"
   ]
  },
  {
   "cell_type": "code",
   "execution_count": null,
   "metadata": {},
   "outputs": [],
   "source": [
    "model = MLP(input_size=n_columns, output_size=1, hidden_size=[15,15])\n",
    "model = model.to(device)"
   ]
  },
  {
   "cell_type": "code",
   "execution_count": null,
   "metadata": {},
   "outputs": [],
   "source": [
    "criterion = torch.nn.MSELoss()\n",
    "lr = 0.1\n",
    "optimizer = torch.optim.SGD(model.parameters(), lr = 0.1)"
   ]
  },
  {
   "cell_type": "code",
   "execution_count": null,
   "metadata": {},
   "outputs": [],
   "source": [
    "model.eval()\n",
    "y_pred = model(X_test_tch)\n",
    "before_train = criterion(y_pred.squeeze().to(device), y_test_tch)\n",
    "print('Test loss before training' , before_train.item())    "
   ]
  },
  {
   "cell_type": "code",
   "execution_count": null,
   "metadata": {},
   "outputs": [],
   "source": [
    "model.train()\n",
    "epoch = 0\n",
    "lr = 0.8\n",
    "loss = before_train\n",
    "counter = 0\n",
    "path=[]\n",
    "while loss.item() > 0.1:\n",
    "    optimizer.zero_grad() # Reset the gradient\n",
    "    epoch += 1\n",
    "    counter += 1\n",
    "    # Forward pass\n",
    "    y_pred = model(X_train_tch)\n",
    "    # Update learning rate based on loss\n",
    "    if loss < criterion(y_pred.squeeze().to(device), y_train_tch):\n",
    "        counter = 0\n",
    "        lr /= 2\n",
    "        optimizer = torch.optim.SGD(model.parameters(), lr = lr)\n",
    "    if counter > 100:\n",
    "        counter = 0\n",
    "        lr *= 1.2\n",
    "        optimizer = torch.optim.SGD(model.parameters(), lr = lr)\n",
    "    # Compute Loss\n",
    "    loss = criterion(y_pred.squeeze().to(device), y_train_tch)\n",
    "    print('Epoch {}: train loss: {} learning rate: {}'.format(epoch, loss.item(), lr))\n",
    "    # Backward pass\n",
    "    loss.backward()\n",
    "    optimizer.step()"
   ]
  },
  {
   "cell_type": "code",
   "execution_count": null,
   "metadata": {},
   "outputs": [],
   "source": [
    "model.eval()\n",
    "y_pred = model(X_test_tch)\n",
    "before_train = criterion(y_pred.squeeze().to(device), y_test_tch)\n",
    "print('Test loss after training' , before_train.item())   "
   ]
  },
  {
   "cell_type": "code",
   "execution_count": null,
   "metadata": {},
   "outputs": [],
   "source": [
    "device = \"cpu\""
   ]
  },
  {
   "cell_type": "code",
   "execution_count": null,
   "metadata": {},
   "outputs": [],
   "source": [
    "X = pd.DataFrame(X_train, columns=df.columns[df.columns != 'Y'])\n",
    "y = pd.DataFrame(y_train, columns=['Y'])\n",
    "sens_end_layer = 'last'\n",
    "sens_end_input = False\n",
    "sens_origin_layer = 0\n",
    "sens_origin_input = True"
   ]
  },
  {
   "cell_type": "code",
   "execution_count": null,
   "metadata": {},
   "outputs": [],
   "source": [
    "wts_torch = []\n",
    "bias_torch = []\n",
    "for name, param in model.named_parameters():\n",
    "    #print(name, \":\", param)\n",
    "    if \"weight\" in name:\n",
    "        wts_torch.append(param.detach().T.to(device))\n",
    "    if \"bias\" in name:\n",
    "        bias_torch.append(param.detach().to(device))\n",
    "actfunc_torch = [\"identity\", \"logistic\", \"logistic\", \"identity\"]"
   ]
  },
  {
   "cell_type": "code",
   "execution_count": null,
   "metadata": {},
   "outputs": [],
   "source": [
    "hessian = ns.hessian_mlp(wts_torch, bias_torch, actfunc_torch, X, y, use_torch=True, dev=\"cpu\")"
   ]
  },
  {
   "cell_type": "code",
   "execution_count": null,
   "metadata": {},
   "outputs": [],
   "source": [
    "# Check sensitivity metrics\n",
    "# For X1, X5 mean and std should be around 0\n",
    "# For X2, mean should be around -1\n",
    "# For X3, X4, mean should be around 0.7\n",
    "hessian.summary()"
   ]
  },
  {
   "cell_type": "markdown",
   "metadata": {},
   "source": [
    "### Check behavior of Jerkian function"
   ]
  },
  {
   "cell_type": "markdown",
   "metadata": {},
   "source": [
    "#### Create output Y as linear function of inputs with some non-linear relationships"
   ]
  },
  {
   "cell_type": "code",
   "execution_count": null,
   "metadata": {},
   "outputs": [],
   "source": [
    "# df['Y'] = - 1.0 * df.X4 + 0.8 * df.X2 ** 2\n",
    "df['Y'] =  df.X3 * df.X4 * df.X5 + df.X1 * df.X2 #* df.X6 + df.X8 ** 3 #+ df.X7 ** 4"
   ]
  },
  {
   "cell_type": "markdown",
   "metadata": {},
   "source": [
    "#### Train MLP model using the data.frame created"
   ]
  },
  {
   "cell_type": "code",
   "execution_count": null,
   "metadata": {},
   "outputs": [],
   "source": [
    "## Create random 80/20 % split\n",
    "X_train, X_test, y_train, y_test = train_test_split(df.loc[:, df.columns != 'Y'].to_numpy(), df['Y'], test_size = 0.2, random_state = 5)"
   ]
  },
  {
   "cell_type": "code",
   "execution_count": null,
   "metadata": {},
   "outputs": [],
   "source": [
    "### Create MLP model\n",
    "model = MLPRegressor(solver='sgd', # Update function\n",
    "                    hidden_layer_sizes=[8], # #neurons in hidden layers\n",
    "                    learning_rate_init=0.01, # initial learning rate\n",
    "                    activation='logistic', # Logistic sigmoid activation function\n",
    "                    alpha=0.01, # L2 regularization term\n",
    "                    learning_rate='adaptive', # Type of learning rate used in training\n",
    "                    max_iter=2000, # Maximum number of iterations\n",
    "                    batch_size=10, # Size of batch when training\n",
    "                    tol=1e-2, # Tolerance for the optimization\n",
    "                    validation_fraction=0.0, # Percentage of samples used for validation\n",
    "                    n_iter_no_change=10, # Maximum number of epochs to not meet tol improvement\n",
    "                    random_state=1)\n",
    "\n",
    "# Train model\n",
    "model.fit(X_train, y_train)"
   ]
  },
  {
   "cell_type": "code",
   "execution_count": null,
   "metadata": {},
   "outputs": [],
   "source": [
    "# Predict values to check model performance\n",
    "y_train_pred = model.predict(X_train)\n",
    "y_test_pred = model.predict(X_test)\n",
    "\n",
    "# Obtain performance metrics\n",
    "print(\"Training set: R2\", r2_score(y_train, y_train_pred), \", MSE \", mean_squared_error(y_train, y_train_pred))\n",
    "print(\"Test set: R2\", r2_score(y_test, y_test_pred), \", MSE \", mean_squared_error(y_test, y_test_pred))"
   ]
  },
  {
   "cell_type": "code",
   "execution_count": null,
   "metadata": {},
   "outputs": [],
   "source": [
    "import matplotlib.pyplot as plt\n",
    "fig=plt.figure()\n",
    "ax=fig.add_axes([0,0,1,1])\n",
    "ax.scatter(y_train, y_train_pred, color='r')\n",
    "plt.show()"
   ]
  },
  {
   "cell_type": "markdown",
   "metadata": {},
   "source": [
    "#### Execute hessian function and check sensitivity metrics"
   ]
  },
  {
   "cell_type": "code",
   "execution_count": null,
   "metadata": {},
   "outputs": [],
   "source": [
    "# Obtain parameters to perform hessian\n",
    "wts = model.coefs_\n",
    "bias = model.intercepts_\n",
    "actfunc = ['identity',model.get_params()['activation'],model.out_activation_]\n",
    "X = pd.DataFrame(X_train, columns=df.columns[df.columns != 'Y'])\n",
    "y = pd.DataFrame(y_train, columns=['Y'])\n",
    "sens_end_layer = 'last'\n",
    "sens_end_input = False\n",
    "sens_origin_layer = 0\n",
    "sens_origin_input = True"
   ]
  },
  {
   "cell_type": "code",
   "execution_count": null,
   "metadata": {},
   "outputs": [],
   "source": [
    "hessian = ns.hessian_mlp(wts, bias, actfunc, X, y)"
   ]
  },
  {
   "cell_type": "code",
   "execution_count": null,
   "metadata": {},
   "outputs": [],
   "source": [
    "hessian.sens[0]['mean']"
   ]
  },
  {
   "cell_type": "code",
   "execution_count": null,
   "metadata": {},
   "outputs": [],
   "source": [
    "from neuralsens.activation_functions import activation_function, der_activation_function, der_2_activation_function, der_3_activation_function  \n",
    "### Initialize all the necessary variables\n",
    "# Structure of the mlp model\n",
    "mlpstr = [wts[0].shape[0]] + [lyr.shape[1] for lyr in wts] \n",
    "\n",
    "# Derivative and activation functions for each neuron layer\n",
    "der3actfunc = [der_3_activation_function(af) for af in actfunc]\n",
    "der2actfunc = [der_2_activation_function(af) for af in actfunc]\n",
    "deractfunc = [der_activation_function(af) for af in actfunc]\n",
    "actfunc = [activation_function(af) for af in actfunc]"
   ]
  },
  {
   "cell_type": "code",
   "execution_count": null,
   "metadata": {},
   "outputs": [],
   "source": [
    "# Number of samples to be cached (it is used several times)\n",
    "n_samples = 10000#X.shape[0]\n",
    "r_samples = range(n_samples)\n",
    "n_inputs = X.shape[1]\n",
    "\n",
    "# Weights of input layer\n",
    "W = [np.identity(X.shape[1])]\n",
    "\n",
    "# Input of input layer \n",
    "# inputs = [np.hstack((np.ones((len(X_train),1), dtype=int), X_train))]\n",
    "Z = [np.dot(X, W[0])]\n",
    "\n",
    "# Output of input layer\n",
    "O = [actfunc[0](Z[0])]\n",
    "\n",
    "# First Derivative of input layer\n",
    "D = [np.array([deractfunc[0](Z[0][irow,]) for irow in r_samples])]\n",
    "\n",
    "# Second derivative of input layer\n",
    "D2 = [np.array([der2actfunc[0](Z[0][irow,]) for irow in r_samples])]\n",
    "\n",
    "# Third derivative of input layer\n",
    "D3 = [np.array([der3actfunc[0](Z[0][irow,]) for irow in r_samples])]"
   ]
  },
  {
   "cell_type": "code",
   "execution_count": null,
   "metadata": {},
   "outputs": [],
   "source": [
    "# Let's go over all the layers calculating each variable\n",
    "for lyr in range(1,len(mlpstr)):\n",
    "    # Calculate weights of each layer\n",
    "    W.append(np.vstack((bias[lyr-1], wts[lyr-1])))\n",
    "    \n",
    "    # Calculate input of each layer\n",
    "    # Add columns of 1 for the bias\n",
    "    aux = np.ones((O[lyr-1].shape[0],O[lyr-1].shape[1]+1))\n",
    "    aux[:,1:] = O[lyr-1]\n",
    "    Z.append(np.dot(aux,W[lyr]))\n",
    "    \n",
    "    # Calculate output of each layer\n",
    "    O.append(actfunc[lyr](Z[lyr]))\n",
    "    \n",
    "    # Calculate first derivative of each layer\n",
    "    D.append(np.array([deractfunc[lyr](Z[lyr][irow,]) for irow in r_samples]))\n",
    "    \n",
    "    # Calculate second derivative of each layer\n",
    "    D2.append(np.array([der2actfunc[lyr](Z[lyr][irow,]) for irow in r_samples]))\n",
    "    \n",
    "    # Calculate third derivative of each layer\n",
    "    D3.append(np.array([der3actfunc[lyr](Z[lyr][irow,]) for irow in r_samples]))"
   ]
  },
  {
   "cell_type": "code",
   "execution_count": null,
   "metadata": {},
   "outputs": [],
   "source": [
    "# Now, let's calculate the derivatives of interest\n",
    "if sens_end_layer == 'last':\n",
    "    sens_end_layer = len(actfunc)\n",
    "# Initialize cross derivatives\n",
    "D_ = [np.identity(mlpstr[sens_origin_layer]) for irow in r_samples]\n",
    "if sens_origin_input:\n",
    "    D_ = [D[sens_origin_layer]]\n",
    "Q = [np.zeros((n_samples,n_inputs,n_inputs,n_inputs))]\n",
    "H = [D2[0]]\n",
    "\n",
    "M = [np.zeros((n_samples,n_inputs,n_inputs,n_inputs,n_inputs))]\n",
    "N = [np.zeros((n_samples,n_inputs,n_inputs,n_inputs,n_inputs))]\n",
    "J = [D3[0]]"
   ]
  },
  {
   "cell_type": "code",
   "execution_count": null,
   "metadata": {},
   "outputs": [],
   "source": [
    "counter = 0\n",
    "for layer in range(sens_origin_layer + 1, sens_end_layer):\n",
    "    counter += 1\n",
    "\n",
    "    # First derivatives\n",
    "    z_ = D_[counter - 1] @ W[layer][1:,:] \n",
    "    D_.append(z_ @ D[layer])\n",
    "\n",
    "    # Second derivatives\n",
    "    q = np.matmul(np.matmul(H[counter-1], W[layer][1:,:]).swapaxes(0,1), D[counter]).swapaxes(0,1)\n",
    "    h = np.matmul(z_, np.matmul(z_, D2[layer].swapaxes(0,1)).swapaxes(0,2)).swapaxes(0,2).swapaxes(0,1)\n",
    "    Q.append(q)\n",
    "    H.append(h + q)\n",
    "\n",
    "    # Third derivatives\n",
    "    m = np.matmul(np.matmul(J[counter-1], W[layer][1:,:]).swapaxes(0,2), D[counter]).swapaxes(0,2)\n",
    "    hx = np.matmul(np.matmul(H[counter-1], W[layer][1:,:]).swapaxes(0,1),np.array([np.diagonal(D2[layer][i,:,:,:]) for i in range(D2[layer].shape[0])])).swapaxes(0,1)\n",
    "    n = np.matmul(z_,np.broadcast_to(np.expand_dims(hx, axis=4), list(hx.shape) + [hx.shape[-1]]).swapaxes(0,2)).swapaxes(0,2)\n",
    "    j = np.matmul(z_, np.matmul(z_, np.matmul(z_, D3[layer].swapaxes(0,2)).swapaxes(0,3)).swapaxes(1,3)).swapaxes(1,3).swapaxes(0,3).swapaxes(0,2)\n",
    "    M.append(m)\n",
    "    N.append(n)\n",
    "    J.append(j + m + n + n.swapaxes(2, 3).swapaxes(1, 2) + n.swapaxes(1, 2).swapaxes(2, 3))\n"
   ]
  },
  {
   "cell_type": "code",
   "execution_count": null,
   "metadata": {},
   "outputs": [],
   "source": [
    "W[layer][1:,:]"
   ]
  },
  {
   "cell_type": "code",
   "execution_count": null,
   "metadata": {},
   "outputs": [],
   "source": [
    "J[counter-1][0,:,:,:,:]"
   ]
  },
  {
   "cell_type": "code",
   "execution_count": null,
   "metadata": {},
   "outputs": [],
   "source": [
    "m = np.matmul(J[counter-1], W[layer][1:,:])"
   ]
  },
  {
   "cell_type": "code",
   "execution_count": null,
   "metadata": {},
   "outputs": [],
   "source": [
    "meanSens = np.mean(m, axis=0)\n",
    "stdSens = np.std(m, axis=0)\n",
    "meansquareSens = np.mean(np.square(m), axis=0)"
   ]
  },
  {
   "cell_type": "code",
   "execution_count": null,
   "metadata": {},
   "outputs": [],
   "source": [
    "print(meanSens[2,3,4,0],stdSens[2,3,4,0])"
   ]
  },
  {
   "cell_type": "code",
   "execution_count": null,
   "metadata": {},
   "outputs": [],
   "source": [
    "if sens_end_input:\n",
    "    raw_sens = M[counter] \n",
    "else:\n",
    "    raw_sens = J[counter]\n",
    "\n",
    "# Calculate sensitivity measures for each input and output \n",
    "meanSens = np.mean(raw_sens, axis=0)\n",
    "stdSens = np.std(raw_sens, axis=0)\n",
    "meansquareSens = np.mean(np.square(raw_sens), axis=0)"
   ]
  },
  {
   "cell_type": "code",
   "execution_count": null,
   "metadata": {},
   "outputs": [],
   "source": [
    "print(meanSens[2,3,4,0],stdSens[2,3,4,0])"
   ]
  },
  {
   "cell_type": "code",
   "execution_count": null,
   "metadata": {},
   "outputs": [],
   "source": [
    "print(meanSens[0,1,5,0],stdSens[0,1,5,0])"
   ]
  },
  {
   "cell_type": "code",
   "execution_count": null,
   "metadata": {},
   "outputs": [],
   "source": [
    "print(meanSens[7,7,7,0],stdSens[7,7,7,0])"
   ]
  }
 ],
 "metadata": {
  "interpreter": {
   "hash": "6293a8b2c86d9a52e3a722d726ae162a9dda2b649303347e21b2798b86287157"
  },
  "kernelspec": {
   "display_name": "Python 3.9.12 ('neuralsens')",
   "language": "python",
   "name": "python3"
  },
  "language_info": {
   "codemirror_mode": {
    "name": "ipython",
    "version": 3
   },
   "file_extension": ".py",
   "mimetype": "text/x-python",
   "name": "python",
   "nbconvert_exporter": "python",
   "pygments_lexer": "ipython3",
   "version": "3.9.12"
  },
  "orig_nbformat": 4
 },
 "nbformat": 4,
 "nbformat_minor": 2
}
